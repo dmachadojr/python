{
 "cells": [
  {
   "cell_type": "markdown",
   "metadata": {},
   "source": [
    "# LISTAS: noções básicas"
   ]
  },
  {
   "cell_type": "markdown",
   "metadata": {},
   "source": [
    "Lista é um tipo de estrutura em que os dados são organizados de forma linear. Estes podem ser acessados através de um índice que começa na posição \"0\" (zero)."
   ]
  },
  {
   "cell_type": "code",
   "execution_count": 3,
   "metadata": {
    "scrolled": true
   },
   "outputs": [
    {
     "name": "stdout",
     "output_type": "stream",
     "text": [
      "['pizza', 'churrasco', 'sorvete', 'bacon']\n"
     ]
    }
   ],
   "source": [
    "lista = ['pizza','churrasco','sorvete','bacon']\n",
    "print(lista)"
   ]
  },
  {
   "cell_type": "markdown",
   "metadata": {},
   "source": [
    "Verificando o tamanho da lista, isto é, quantas posições existem na coleção de dados:"
   ]
  },
  {
   "cell_type": "code",
   "execution_count": 12,
   "metadata": {},
   "outputs": [
    {
     "data": {
      "text/plain": [
       "4"
      ]
     },
     "execution_count": 12,
     "metadata": {},
     "output_type": "execute_result"
    }
   ],
   "source": [
    "len(lista)"
   ]
  },
  {
   "cell_type": "markdown",
   "metadata": {},
   "source": [
    "Exibindo o conteúdo de uma posição específica da lista:"
   ]
  },
  {
   "cell_type": "code",
   "execution_count": 4,
   "metadata": {},
   "outputs": [
    {
     "name": "stdout",
     "output_type": "stream",
     "text": [
      "pizza\n"
     ]
    }
   ],
   "source": [
    "print(lista[0])"
   ]
  },
  {
   "cell_type": "markdown",
   "metadata": {},
   "source": [
    "Como eu faço para imprimir o conteúdo da última posição da lista, sem saber o tamanho da mesma?"
   ]
  },
  {
   "cell_type": "code",
   "execution_count": 8,
   "metadata": {},
   "outputs": [
    {
     "name": "stdout",
     "output_type": "stream",
     "text": [
      "bacon\n"
     ]
    }
   ],
   "source": [
    "print(lista[len(lista)-1])"
   ]
  },
  {
   "cell_type": "markdown",
   "metadata": {},
   "source": [
    "Criando uma lista de números pares de -10 a 10 usando a função \"range\". Neste caso, o comando \"list\" é utilizado para demonstrar o resultado obtido (veja que isto não equivale ao comando print, ou seja, o usuário final não vai ver esta saída."
   ]
  },
  {
   "cell_type": "code",
   "execution_count": 9,
   "metadata": {},
   "outputs": [
    {
     "data": {
      "text/plain": [
       "[-10, -8, -6, -4, -2, 0, 2, 4, 6, 8, 10]"
      ]
     },
     "execution_count": 9,
     "metadata": {},
     "output_type": "execute_result"
    }
   ],
   "source": [
    "list(range(-10,11,2))"
   ]
  },
  {
   "cell_type": "markdown",
   "metadata": {},
   "source": [
    "Para que o resultado acima seja realmente impresso para o usuário, basta incluir um \"print\":"
   ]
  },
  {
   "cell_type": "code",
   "execution_count": 2,
   "metadata": {},
   "outputs": [
    {
     "name": "stdout",
     "output_type": "stream",
     "text": [
      "[-10, -8, -6, -4, -2, 0, 2, 4, 6, 8, 10]\n"
     ]
    }
   ],
   "source": [
    "print(list(range(-10,11,2)))"
   ]
  },
  {
   "cell_type": "markdown",
   "metadata": {},
   "source": [
    "Invertendo o conteúdo de uma lista:"
   ]
  },
  {
   "cell_type": "code",
   "execution_count": 23,
   "metadata": {},
   "outputs": [
    {
     "name": "stdout",
     "output_type": "stream",
     "text": [
      "['pizza', 'churrasco', 'sorvete', 'bacon']\n"
     ]
    }
   ],
   "source": [
    "lista.reverse()\n",
    "print(lista)"
   ]
  },
  {
   "cell_type": "markdown",
   "metadata": {},
   "source": [
    "Criando uma nova variável x que recebe os números pares entre 0 e 21:"
   ]
  },
  {
   "cell_type": "code",
   "execution_count": 12,
   "metadata": {},
   "outputs": [
    {
     "name": "stdout",
     "output_type": "stream",
     "text": [
      "[0, 2, 4, 6, 8, 10, 12, 14, 16, 18, 20]\n"
     ]
    }
   ],
   "source": [
    "x = list(range(0,21,2))\n",
    "print(x)"
   ]
  },
  {
   "cell_type": "markdown",
   "metadata": {},
   "source": [
    "É possível transformar uma sequência de caracteres em uma lista:"
   ]
  },
  {
   "cell_type": "code",
   "execution_count": 13,
   "metadata": {},
   "outputs": [
    {
     "name": "stdout",
     "output_type": "stream",
     "text": [
      "['h', 'e', 'l', 'l', 'o', ' ', 'w', 'o', 'r', 'l', 'd']\n"
     ]
    }
   ],
   "source": [
    "y=list('hello world')\n",
    "print(y)"
   ]
  },
  {
   "cell_type": "markdown",
   "metadata": {},
   "source": [
    "Também é possível apenas imprimir uma lista de maneira invertida, sem alterar seu conteúdo:"
   ]
  },
  {
   "cell_type": "code",
   "execution_count": 18,
   "metadata": {},
   "outputs": [
    {
     "name": "stdout",
     "output_type": "stream",
     "text": [
      "['d', 'l', 'r', 'o', 'w', ' ', 'o', 'l', 'l', 'e', 'h']\n",
      "['h', 'e', 'l', 'l', 'o', ' ', 'w', 'o', 'r', 'l', 'd']\n"
     ]
    }
   ],
   "source": [
    "print(y[::-1])\n",
    "print(y)"
   ]
  },
  {
   "cell_type": "markdown",
   "metadata": {},
   "source": [
    "É possível criar uma nova lista, inicializando-a sem nenhum conteúdo:"
   ]
  },
  {
   "cell_type": "code",
   "execution_count": 19,
   "metadata": {},
   "outputs": [],
   "source": [
    "A = []"
   ]
  },
  {
   "cell_type": "markdown",
   "metadata": {},
   "source": [
    "E deste modo, é possível adicionar conteúdos a esta lista de forma incremental:"
   ]
  },
  {
   "cell_type": "code",
   "execution_count": 20,
   "metadata": {},
   "outputs": [
    {
     "name": "stdout",
     "output_type": "stream",
     "text": [
      "[12]\n"
     ]
    }
   ],
   "source": [
    "A.append(12)\n",
    "print(A)"
   ]
  },
  {
   "cell_type": "code",
   "execution_count": 22,
   "metadata": {},
   "outputs": [
    {
     "name": "stdout",
     "output_type": "stream",
     "text": [
      "[12, 19]\n"
     ]
    }
   ],
   "source": [
    "A.append(19)\n",
    "print(A)"
   ]
  },
  {
   "cell_type": "code",
   "execution_count": 24,
   "metadata": {},
   "outputs": [
    {
     "name": "stdout",
     "output_type": "stream",
     "text": [
      "ORDENAÇÃO DE LISTA\n",
      "Conteúdo original: [32, 10, -5, 1375, 12]\n",
      "Conteúdo ordenado de forma crescente: [-5, 10, 12, 32, 1375]\n",
      "Conteúdo ordenado de forma decrescente: [1375, 32, 12, 10, -5]\n"
     ]
    }
   ],
   "source": [
    "# Ordenando uma lista em ordem crescente ou decrescente\n",
    "\n",
    "a = [32,10,-5,1375,12]\n",
    "print('Conteúdo original: {}'.format(a))\n",
    "\n",
    "a.sort()\n",
    "print('Conteúdo ordenado de forma crescente: {}'.format(a))\n",
    "\n",
    "a.sort(reverse=True)\n",
    "print('Conteúdo ordenado de forma decrescente: {}'.format(a))"
   ]
  },
  {
   "cell_type": "code",
   "execution_count": 25,
   "metadata": {},
   "outputs": [
    {
     "name": "stdout",
     "output_type": "stream",
     "text": [
      "Conteúdo original da lista: ['hello', 'oi', 'abacate']\n",
      "Conteúdo ordenado de forma crescente: ['abacate', 'hello', 'oi']\n"
     ]
    }
   ],
   "source": [
    "b = ['hello','oi','abacate']\n",
    "\n",
    "print('Conteúdo original da lista: {}'.format(b))\n",
    "\n",
    "b.sort()\n",
    "print('Conteúdo ordenado de forma crescente: {}'.format(b))"
   ]
  },
  {
   "cell_type": "code",
   "execution_count": null,
   "metadata": {},
   "outputs": [],
   "source": []
  }
 ],
 "metadata": {
  "kernelspec": {
   "display_name": "Python 3",
   "language": "python",
   "name": "python3"
  },
  "language_info": {
   "codemirror_mode": {
    "name": "ipython",
    "version": 3
   },
   "file_extension": ".py",
   "mimetype": "text/x-python",
   "name": "python",
   "nbconvert_exporter": "python",
   "pygments_lexer": "ipython3",
   "version": "3.7.1"
  }
 },
 "nbformat": 4,
 "nbformat_minor": 2
}
