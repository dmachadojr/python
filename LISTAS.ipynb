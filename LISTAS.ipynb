{
 "cells": [
  {
   "cell_type": "markdown",
   "metadata": {},
   "source": [
    "# LISTAS: noções básicas"
   ]
  },
  {
   "cell_type": "markdown",
   "metadata": {},
   "source": [
    "Lista é um tipo de estrutura em que os dados são organizados de forma linear. Estes podem ser acessados através de um índice que começa na posição \"0\" (zero)."
   ]
  },
  {
   "cell_type": "code",
   "execution_count": 3,
   "metadata": {
    "scrolled": true
   },
   "outputs": [
    {
     "name": "stdout",
     "output_type": "stream",
     "text": [
      "['pizza', 'churrasco', 'sorvete', 'bacon']\n"
     ]
    }
   ],
   "source": [
    "lista = ['pizza','churrasco','sorvete','bacon']\n",
    "print(lista)"
   ]
  },
  {
   "cell_type": "markdown",
   "metadata": {},
   "source": [
    "Verificando o tamanho da lista, isto é, quantas posições existem na coleção de dados:"
   ]
  },
  {
   "cell_type": "code",
   "execution_count": 12,
   "metadata": {},
   "outputs": [
    {
     "data": {
      "text/plain": [
       "4"
      ]
     },
     "execution_count": 12,
     "metadata": {},
     "output_type": "execute_result"
    }
   ],
   "source": [
    "len(lista)"
   ]
  },
  {
   "cell_type": "markdown",
   "metadata": {},
   "source": [
    "Exibindo o conteúdo de uma posição específica da lista:"
   ]
  },
  {
   "cell_type": "code",
   "execution_count": 4,
   "metadata": {},
   "outputs": [
    {
     "name": "stdout",
     "output_type": "stream",
     "text": [
      "pizza\n"
     ]
    }
   ],
   "source": [
    "print(lista[0])"
   ]
  },
  {
   "cell_type": "markdown",
   "metadata": {},
   "source": [
    "Como eu faço para imprimir o conteúdo da última posição da lista, sem saber o tamanho da mesma?"
   ]
  },
  {
   "cell_type": "code",
   "execution_count": 8,
   "metadata": {},
   "outputs": [
    {
     "name": "stdout",
     "output_type": "stream",
     "text": [
      "bacon\n"
     ]
    }
   ],
   "source": [
    "print(lista[len(lista)-1])"
   ]
  },
  {
   "cell_type": "markdown",
   "metadata": {},
   "source": [
    "Criando uma lista de números pares de -10 a 10 usando a função \"range\". Neste caso, o comando \"list\" é utilizado para demonstrar o resultado obtido (veja que isto não equivale ao comando print, ou seja, o usuário final não vai ver esta saída."
   ]
  },
  {
   "cell_type": "code",
   "execution_count": 9,
   "metadata": {},
   "outputs": [
    {
     "data": {
      "text/plain": [
       "[-10, -8, -6, -4, -2, 0, 2, 4, 6, 8, 10]"
      ]
     },
     "execution_count": 9,
     "metadata": {},
     "output_type": "execute_result"
    }
   ],
   "source": [
    "list(range(-10,11,2))"
   ]
  },
  {
   "cell_type": "markdown",
   "metadata": {},
   "source": [
    "Para que o resultado acima seja realmente impresso para o usuário, basta incluir um \"print\":"
   ]
  },
  {
   "cell_type": "code",
   "execution_count": 2,
   "metadata": {},
   "outputs": [
    {
     "name": "stdout",
     "output_type": "stream",
     "text": [
      "[-10, -8, -6, -4, -2, 0, 2, 4, 6, 8, 10]\n"
     ]
    }
   ],
   "source": [
    "print(list(range(-10,11,2)))"
   ]
  },
  {
   "cell_type": "markdown",
   "metadata": {},
   "source": [
    "Invertendo o conteúdo de uma lista:"
   ]
  },
  {
   "cell_type": "code",
   "execution_count": 23,
   "metadata": {},
   "outputs": [
    {
     "name": "stdout",
     "output_type": "stream",
     "text": [
      "['pizza', 'churrasco', 'sorvete', 'bacon']\n"
     ]
    }
   ],
   "source": [
    "lista.reverse()\n",
    "print(lista)"
   ]
  },
  {
   "cell_type": "markdown",
   "metadata": {},
   "source": [
    "Criando uma nova variável x que recebe os números pares entre 0 e 21:"
   ]
  },
  {
   "cell_type": "code",
   "execution_count": 12,
   "metadata": {},
   "outputs": [
    {
     "name": "stdout",
     "output_type": "stream",
     "text": [
      "[0, 2, 4, 6, 8, 10, 12, 14, 16, 18, 20]\n"
     ]
    }
   ],
   "source": [
    "x = list(range(0,21,2))\n",
    "print(x)"
   ]
  },
  {
   "cell_type": "markdown",
   "metadata": {},
   "source": [
    "É possível transformar uma sequência de caracteres em uma lista:"
   ]
  },
  {
   "cell_type": "code",
   "execution_count": 13,
   "metadata": {},
   "outputs": [
    {
     "name": "stdout",
     "output_type": "stream",
     "text": [
      "['h', 'e', 'l', 'l', 'o', ' ', 'w', 'o', 'r', 'l', 'd']\n"
     ]
    }
   ],
   "source": [
    "y=list('hello world')\n",
    "print(y)"
   ]
  },
  {
   "cell_type": "markdown",
   "metadata": {},
   "source": [
    "Também é possível apenas imprimir uma lista de maneira invertida, sem alterar seu conteúdo:"
   ]
  },
  {
   "cell_type": "code",
   "execution_count": 18,
   "metadata": {},
   "outputs": [
    {
     "name": "stdout",
     "output_type": "stream",
     "text": [
      "['d', 'l', 'r', 'o', 'w', ' ', 'o', 'l', 'l', 'e', 'h']\n",
      "['h', 'e', 'l', 'l', 'o', ' ', 'w', 'o', 'r', 'l', 'd']\n"
     ]
    }
   ],
   "source": [
    "print(y[::-1])\n",
    "print(y)"
   ]
  },
  {
   "cell_type": "markdown",
   "metadata": {},
   "source": [
    "É possível criar uma nova lista, inicializando-a sem nenhum conteúdo:"
   ]
  },
  {
   "cell_type": "code",
   "execution_count": 42,
   "metadata": {},
   "outputs": [],
   "source": [
    "A = []"
   ]
  },
  {
   "cell_type": "markdown",
   "metadata": {},
   "source": [
    "ADICIONAR valores de forma incremental, isto é, ao final da lista:"
   ]
  },
  {
   "cell_type": "code",
   "execution_count": 43,
   "metadata": {
    "scrolled": true
   },
   "outputs": [
    {
     "name": "stdout",
     "output_type": "stream",
     "text": [
      "[12]\n"
     ]
    }
   ],
   "source": [
    "A.append(12)\n",
    "print(A)"
   ]
  },
  {
   "cell_type": "code",
   "execution_count": 44,
   "metadata": {},
   "outputs": [
    {
     "name": "stdout",
     "output_type": "stream",
     "text": [
      "[12, 19]\n"
     ]
    }
   ],
   "source": [
    "A.append(19)\n",
    "print(A)"
   ]
  },
  {
   "cell_type": "markdown",
   "metadata": {},
   "source": [
    "E para adicionar conteúdos no início da lista (posição \"0\"), pode-se fazer:"
   ]
  },
  {
   "cell_type": "code",
   "execution_count": 45,
   "metadata": {
    "scrolled": true
   },
   "outputs": [
    {
     "name": "stdout",
     "output_type": "stream",
     "text": [
      "[33, 12, 19]\n"
     ]
    }
   ],
   "source": [
    "A.insert(0,33)\n",
    "print(A)"
   ]
  },
  {
   "cell_type": "markdown",
   "metadata": {},
   "source": [
    "Outra maneira de fazer a inserção ao início ou final da lista pode ser:"
   ]
  },
  {
   "cell_type": "code",
   "execution_count": 47,
   "metadata": {},
   "outputs": [
    {
     "name": "stdout",
     "output_type": "stream",
     "text": [
      "[1, 2, 3, 4]\n",
      "[1, 2, 3, 4, 40]\n",
      "[22, 1, 2, 3, 4, 40]\n"
     ]
    }
   ],
   "source": [
    "L = [1,2,3,4]\n",
    "print(L)\n",
    "\n",
    "# adicionando ao final da lista\n",
    "L = L + [40]\n",
    "print(L)\n",
    "\n",
    "# adicionando ao início da lista\n",
    "L = [22] + L\n",
    "print(L)"
   ]
  },
  {
   "cell_type": "markdown",
   "metadata": {},
   "source": [
    "Inserindo conteúdo no meio da lista:"
   ]
  },
  {
   "cell_type": "code",
   "execution_count": 55,
   "metadata": {
    "scrolled": true
   },
   "outputs": [
    {
     "name": "stdout",
     "output_type": "stream",
     "text": [
      "Lista com total de posições = 'par': [101, 102, 103, 104]\n",
      "[101, 102, 'aqui é o meio', 103, 104]\n",
      "Lista com total de posições = 'ímpar': [101, 102, 103, 104, 105]\n",
      "[101, 102, 'aqui é o meio', 103, 104, 105]\n"
     ]
    }
   ],
   "source": [
    "print('Lista com total de posições = \\'par\\': ',end='')\n",
    "lista = [101,102,103,104]\n",
    "print(lista)\n",
    "\n",
    "# calculando o meio da lista e transformando o resultado em \"integer\"\n",
    "meioDaLista = int(len(lista)/2)\n",
    "\n",
    "lista.insert(meioDaLista,'aqui é o meio' )\n",
    "print(lista)\n",
    "\n",
    "print('Lista com total de posições = \\'ímpar\\': ',end='')\n",
    "lista2 = [101,102,103,104,105]\n",
    "print(lista2)\n",
    "\n",
    "# calculando o meio da lista e transformando o resultado em \"integer\"\n",
    "meioDaLista = int(len(lista2)/2)\n",
    "\n",
    "lista2.insert(meioDaLista,'aqui é o meio' )\n",
    "print(lista2)\n"
   ]
  },
  {
   "cell_type": "code",
   "execution_count": 62,
   "metadata": {},
   "outputs": [
    {
     "name": "stdout",
     "output_type": "stream",
     "text": [
      "[1, 2, 3, 4, 5]\n",
      "[1, 2, 3, 4, 5, 10, 11, 12]\n",
      "[20, 21, 22, 1, 2, 3, 4, 5, 10, 11, 12]\n",
      "[20, 21, 22, 1, 2, ['a', 'b', 'c'], 3, 4, 5, 10, 11, 12]\n",
      "[20, 21, 22, 1, 2, ['a', 'b', 'c'], 3, 4, 5, 10, 11, 12, [111, 222, 333]]\n",
      "[111, 222, 333]\n"
     ]
    }
   ],
   "source": [
    "# Inserindo mais de um elemento simultaneamente:\n",
    "\n",
    "listaX = [1,2,3,4,5]\n",
    "print(listaX)\n",
    "\n",
    "listaX += [10,11,12]\n",
    "print(listaX)\n",
    "\n",
    "listaX = [20,21,22] + listaX\n",
    "print(listaX)\n",
    "\n",
    "\n",
    "# inserindo um dado tipo \"lista\" no MEIO da lista\n",
    "listaX.insert( int(len(listaX)/2),['a','b','c'])\n",
    "print(listaX)\n",
    "\n",
    "# inserindo um dado tipo \"lista\" no FINAL da lista\n",
    "listaX.append([111,222,333])\n",
    "print(listaX)\n",
    "\n",
    "# imprimindo o conteúdo da última posição da lista, que é um dado do tipo \"lista\"\n",
    "print(listaX[len(listaX)-1])\n",
    "\n"
   ]
  },
  {
   "cell_type": "markdown",
   "metadata": {},
   "source": [
    "Para REMOVER itens da lista, sugere-se fazer das seguintes formas:"
   ]
  },
  {
   "cell_type": "code",
   "execution_count": 89,
   "metadata": {},
   "outputs": [
    {
     "name": "stdout",
     "output_type": "stream",
     "text": [
      "Conteúdo da lista: ['aa', 'bb', 'cc', 'dd']\n",
      "Conteúdo da lista após remover o elemento 2: ['aa', 'bb', 'dd']\n",
      "Conteúdo da lista após remover o elemento 1: ['aa', 'dd']\n",
      "Conteúdo da lista2 que recebeu o elemento retirado da primeira lista: ['bb']\n"
     ]
    }
   ],
   "source": [
    "lista=['aa','bb','cc','dd']\n",
    "print('Conteúdo da lista: {}'.format(lista))\n",
    "\n",
    "# removendo elemento\n",
    "del lista[2]\n",
    "print('Conteúdo da lista após remover o elemento 2: {}'.format(lista))\n",
    "\n",
    "# removendo elemento e ao mesmo tempo obtendo o elemento retirado\n",
    "lista2=[lista.pop(1)]\n",
    "print('Conteúdo da lista após remover o elemento 1: {}'.format(lista))\n",
    "print('Conteúdo da lista2 que recebeu o elemento retirado da primeira lista: {}'.format(lista2))"
   ]
  },
  {
   "cell_type": "markdown",
   "metadata": {},
   "source": [
    "COPIA de listas (inteira ou parcial) requer uma sintaxe que merece atenção:"
   ]
  },
  {
   "cell_type": "code",
   "execution_count": 110,
   "metadata": {},
   "outputs": [
    {
     "name": "stdout",
     "output_type": "stream",
     "text": [
      "Lista completa: ['a', 'b', 'c', 'd', 'e', 'f']\n",
      "Imprimindo do início até a posição 2: ['a', 'b']\n",
      "Imprimindo após a posição 4 em diante: ['e', 'f']\n",
      "Imprimindo após a posição 1 em diante: ['b', 'c', 'd', 'e', 'f']\n",
      "Imprimindo os 2 últimos elementos: ['e', 'f']\n",
      "Imprimindo penúltima posição (-2, contando a segunda posição de trás p/ frente): e\n",
      "O conteúdo de L3 é ['d', 'e', 'f']\n"
     ]
    }
   ],
   "source": [
    "L1 = ['a','b','c','d','e','f']\n",
    "\n",
    "#ERRADO - desta forma, o L2 funcionará como um \"apelido\" para L1. Ambos os nomes referenciam ao mesmo objeto.\n",
    "L2 = L1\n",
    "\n",
    "#CORRETO - desta forma, uma nova lista L2 receberá como conteúdo a cópia do conteúdo de L1\n",
    "L2 = L1[:]\n",
    "\n",
    "print('Lista completa: {}'.format(L1))\n",
    "print('Imprimindo do início até a posição 2: {}'.format(L1[:2]))\n",
    "print('Imprimindo após a posição 4 em diante: {}'.format(L1[4:]))\n",
    "print('Imprimindo após a posição 1 em diante: {}'.format(L1[1:]))\n",
    "print('Imprimindo os 2 últimos elementos: {}'.format(L1[-2:]))\n",
    "print('Imprimindo penúltima posição (-2, contando a segunda posição de trás p/ frente): {}'.format(L1[-2]))\n",
    "\n",
    "#copiando os 3 últimos elementos de L1 para L3\n",
    "L3 = L1[-3:]\n",
    "print('O conteúdo de L3 é {}'.format(L3))\n"
   ]
  },
  {
   "cell_type": "code",
   "execution_count": 24,
   "metadata": {},
   "outputs": [
    {
     "name": "stdout",
     "output_type": "stream",
     "text": [
      "ORDENAÇÃO DE LISTA\n",
      "Conteúdo original: [32, 10, -5, 1375, 12]\n",
      "Conteúdo ordenado de forma crescente: [-5, 10, 12, 32, 1375]\n",
      "Conteúdo ordenado de forma decrescente: [1375, 32, 12, 10, -5]\n"
     ]
    }
   ],
   "source": [
    "# Ordenando uma lista em ordem crescente ou decrescente\n",
    "\n",
    "a = [32,10,-5,1375,12]\n",
    "print('Conteúdo original: {}'.format(a))\n",
    "\n",
    "a.sort()\n",
    "print('Conteúdo ordenado de forma crescente: {}'.format(a))\n",
    "\n",
    "a.sort(reverse=True)\n",
    "print('Conteúdo ordenado de forma decrescente: {}'.format(a))"
   ]
  },
  {
   "cell_type": "code",
   "execution_count": 25,
   "metadata": {},
   "outputs": [
    {
     "name": "stdout",
     "output_type": "stream",
     "text": [
      "Conteúdo original da lista: ['hello', 'oi', 'abacate']\n",
      "Conteúdo ordenado de forma crescente: ['abacate', 'hello', 'oi']\n"
     ]
    }
   ],
   "source": [
    "b = ['hello','oi','abacate']\n",
    "\n",
    "print('Conteúdo original da lista: {}'.format(b))\n",
    "\n",
    "b.sort()\n",
    "print('Conteúdo ordenado de forma crescente: {}'.format(b))"
   ]
  },
  {
   "cell_type": "markdown",
   "metadata": {},
   "source": [
    "Identificando o maior e menor em uma lista:"
   ]
  },
  {
   "cell_type": "code",
   "execution_count": 81,
   "metadata": {},
   "outputs": [
    {
     "name": "stdout",
     "output_type": "stream",
     "text": [
      "A lista contém: [19, 15, -20, 924]\n",
      "O maior número da lista é 924\n",
      "O menor número da lista é -20\n"
     ]
    }
   ],
   "source": [
    "L = [19,15,-20,924]\n",
    "print('A lista contém: {}'.format(L))\n",
    "print('O maior número da lista é {}'.format(max(L)))\n",
    "print('O menor número da lista é {}'.format(min(L)))"
   ]
  },
  {
   "cell_type": "markdown",
   "metadata": {},
   "source": [
    "## DICIONÁRIOS"
   ]
  },
  {
   "cell_type": "markdown",
   "metadata": {},
   "source": [
    "Dicionários são um tipo de lista em que é possível inserir um índice."
   ]
  },
  {
   "cell_type": "code",
   "execution_count": 78,
   "metadata": {},
   "outputs": [
    {
     "name": "stdout",
     "output_type": "stream",
     "text": [
      "Exemplo 1:\n",
      "{1: 'aaa', 2: 'bbb', 3: 'ccc'}\n",
      "O conteúdo do índice 1 do dicionário é: aaa.\n",
      "Exemplo 2:\n",
      "{'abobrinha': 111, 'tomate': 222, 'beterraba': 333}\n",
      "O conteúdo do índice 'tomate' do dicionário é: 222.\n"
     ]
    }
   ],
   "source": [
    "print('Exemplo 1:')\n",
    "dic = {1:'aaa',2:'bbb',3:'ccc'}\n",
    "print(dic)\n",
    "print('O conteúdo do índice 1 do dicionário é: {}.'.format(dic[1]))\n",
    "\n",
    "print('Exemplo 2:')\n",
    "dic2 = {'abobrinha':111,'tomate':222, 'beterraba':333}\n",
    "print(dic2)\n",
    "print('O conteúdo do índice \\'tomate\\' do dicionário é: {}.'.format(dic2['tomate']))\n",
    "\n"
   ]
  }
 ],
 "metadata": {
  "kernelspec": {
   "display_name": "Python 3",
   "language": "python",
   "name": "python3"
  },
  "language_info": {
   "codemirror_mode": {
    "name": "ipython",
    "version": 3
   },
   "file_extension": ".py",
   "mimetype": "text/x-python",
   "name": "python",
   "nbconvert_exporter": "python",
   "pygments_lexer": "ipython3",
   "version": "3.7.1"
  }
 },
 "nbformat": 4,
 "nbformat_minor": 2
}
