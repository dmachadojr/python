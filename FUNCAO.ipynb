{
 "cells": [
  {
   "cell_type": "markdown",
   "metadata": {},
   "source": [
    "# Conceitos básicos de FUNÇÃO"
   ]
  },
  {
   "cell_type": "markdown",
   "metadata": {},
   "source": [
    "Função é um conjunto de instruções (comandos) que executam alguma tarefa. É definida (criada) através da palavra reservada \"def\"."
   ]
  },
  {
   "cell_type": "code",
   "execution_count": 1,
   "metadata": {},
   "outputs": [
    {
     "name": "stdout",
     "output_type": "stream",
     "text": [
      "----------------------------------------\n",
      "Olá Teobaldo, como vai você?\n",
      "----------------------------------------\n",
      "Olá Nicomedes, como vai você?\n",
      "----------------------------------------\n",
      "Olá Oche Lombardino, como vai você?\n",
      "----------------------------------------\n"
     ]
    }
   ],
   "source": [
    "def cumprimente(nome):\n",
    "    print('Olá {}, como vai você?'.format(nome))\n",
    "\n",
    "def risco():\n",
    "    print('-'*40)\n",
    "\n",
    "    \n",
    "risco()\n",
    "cumprimente('Teobaldo')\n",
    "risco()\n",
    "cumprimente('Nicomedes')\n",
    "risco()\n",
    "cumprimente('Oche Lombardino')\n",
    "risco()"
   ]
  },
  {
   "cell_type": "code",
   "execution_count": 2,
   "metadata": {},
   "outputs": [
    {
     "name": "stdout",
     "output_type": "stream",
     "text": [
      "25\n"
     ]
    }
   ],
   "source": [
    "# Retornando um \"resultado\" da função\n",
    "\n",
    "def quadrado(x):\n",
    "    y = x * x\n",
    "    return y    # devolve o resultado para o mesmo local que chamou a função.\n",
    "\n",
    "valor_para_calculo = 5\n",
    "resultado = quadrado(valor_para_calculo)\n",
    "print(resultado)"
   ]
  },
  {
   "cell_type": "code",
   "execution_count": 3,
   "metadata": {},
   "outputs": [
    {
     "name": "stdout",
     "output_type": "stream",
     "text": [
      "6\n"
     ]
    }
   ],
   "source": [
    "# Crie uma função que retorne a soma de três números\n",
    "\n",
    "def soma(x,y,z):\n",
    "    return x + y + z\n",
    "\n",
    "total=soma(1,2,3)\n",
    "print(total)\n"
   ]
  },
  {
   "cell_type": "code",
   "execution_count": 4,
   "metadata": {},
   "outputs": [
    {
     "name": "stdout",
     "output_type": "stream",
     "text": [
      "Digite as horas: 30\n",
      "Digite a taxa: 100\n",
      "O valor de seus rendimentos é R$ 3000.0\n"
     ]
    }
   ],
   "source": [
    "# Crie uma função que receba os dados abaixo e calcule o total do salário. Observe que se a quantidade de horas\n",
    "# for maior ou igual a 44, deve-se incluir no cálculo, um adicional de 13,5% a mais sob as horas excedidas.\n",
    "# - o nome do usuário\n",
    "# - a quantidade de horas\n",
    "# - o valor da hora de trabalho\n",
    "\n",
    "def calcula_pagto(qtas_horas, valor_hora):\n",
    "    horas = float(qtas_horas)\n",
    "    taxa = float(valor_hora)\n",
    "    if horas <= 44:\n",
    "        salario = horas*taxa\n",
    "    else:\n",
    "        horas_excedidas = horas-44\n",
    "        salario = 44*taxa + (horas_excedidas * (taxa*1.3))\n",
    "    return salario\n",
    "\n",
    "str_horas= input('Digite as horas: ')\n",
    "str_taxa=input('Digite a taxa: ')\n",
    "total_salario = calcula_pagto(str_horas,str_taxa)\n",
    "print('O valor de seus rendimentos é R$',total_salario)"
   ]
  }
 ],
 "metadata": {
  "kernelspec": {
   "display_name": "Python 3",
   "language": "python",
   "name": "python3"
  },
  "language_info": {
   "codemirror_mode": {
    "name": "ipython",
    "version": 3
   },
   "file_extension": ".py",
   "mimetype": "text/x-python",
   "name": "python",
   "nbconvert_exporter": "python",
   "pygments_lexer": "ipython3",
   "version": "3.7.1"
  }
 },
 "nbformat": 4,
 "nbformat_minor": 2
}
