{
 "cells": [
  {
   "cell_type": "markdown",
   "metadata": {},
   "source": [
    "# Conceitos básicos de FUNÇÃO"
   ]
  },
  {
   "cell_type": "markdown",
   "metadata": {},
   "source": [
    "Função é um conjunto de instruções (comandos) que executam alguma tarefa. É definida (criada) através da palavra reservada \"def\"."
   ]
  },
  {
   "cell_type": "code",
   "execution_count": 1,
   "metadata": {},
   "outputs": [
    {
     "name": "stdout",
     "output_type": "stream",
     "text": [
      "----------------------------------------\n",
      "Olá Teobaldo, como vai você?\n",
      "----------------------------------------\n",
      "Olá Nicomedes, como vai você?\n",
      "----------------------------------------\n",
      "Olá Oche Lombardino, como vai você?\n",
      "----------------------------------------\n"
     ]
    }
   ],
   "source": [
    "def cumprimente(nome):\n",
    "    print('Olá {}, como vai você?'.format(nome))\n",
    "\n",
    "def risco():\n",
    "    print('-'*40)\n",
    "\n",
    "    \n",
    "risco()\n",
    "cumprimente('Teobaldo')\n",
    "risco()\n",
    "cumprimente('Nicomedes')\n",
    "risco()\n",
    "cumprimente('Oche Lombardino')\n",
    "risco()"
   ]
  },
  {
   "cell_type": "code",
   "execution_count": 2,
   "metadata": {},
   "outputs": [
    {
     "name": "stdout",
     "output_type": "stream",
     "text": [
      "-----------------------\n",
      "| Oi, como vai você?! |\n",
      "-----------------------\n",
      "----------\n",
      "| E aí?! |\n",
      "----------\n",
      "----------------------------\n",
      "| obabaoobabaoobabaoobabao |\n",
      "----------------------------\n",
      "Qual é a sua mensagem? testando o teste\n",
      "--------------------\n",
      "| testando o teste |\n",
      "--------------------\n",
      "-----------------------\n",
      "| Oi, como vai você?! |\n",
      "-----------------------\n",
      "----------\n",
      "| E aí?! |\n",
      "----------\n",
      "----------------------------\n",
      "| obabaoobabaoobabaoobabao |\n",
      "----------------------------\n",
      "Qual é a sua mensagem? testando o teste novamente\n",
      "------------------------------\n",
      "| testando o teste novamente |\n",
      "------------------------------\n"
     ]
    }
   ],
   "source": [
    "# Exemplo de um código SEM função:\n",
    "x = 'Oi, como vai você?!'\n",
    "MSG='| ' + x + ' |'\n",
    "print('-'*len(MSG))\n",
    "print(MSG)\n",
    "print('-'*len(MSG))\n",
    "\n",
    "x = 'E aí?!'\n",
    "MSG='| ' + x + ' |'\n",
    "print('-'*len(MSG))\n",
    "print(MSG)\n",
    "print('-'*len(MSG))\n",
    "\n",
    "x = 'obabaoobabaoobabaoobabao'\n",
    "MSG='| ' + x + ' |'\n",
    "print('-'*len(MSG))\n",
    "print(MSG)\n",
    "print('-'*len(MSG))\n",
    "\n",
    "x = input('Qual é a sua mensagem? ')\n",
    "MSG='| ' + x + ' |'\n",
    "print('-'*len(MSG))\n",
    "print(MSG)\n",
    "print('-'*len(MSG))\n",
    "\n",
    "# Exemplo do mesmo código, mas COM função:\n",
    "def mensagem(x):\n",
    "    MSG='| ' + x + ' |'\n",
    "    print('-'*len(MSG))\n",
    "    print(MSG)\n",
    "    print('-'*len(MSG))\n",
    "\n",
    "mensagem('Oi, como vai você?!')\n",
    "mensagem('E aí?!')\n",
    "mensagem('obabaoobabaoobabaoobabao')\n",
    "mensagem(input('Qual é a sua mensagem? '))"
   ]
  },
  {
   "cell_type": "code",
   "execution_count": 3,
   "metadata": {},
   "outputs": [
    {
     "name": "stdout",
     "output_type": "stream",
     "text": [
      "25\n"
     ]
    }
   ],
   "source": [
    "# Retornando um \"resultado\" da função\n",
    "\n",
    "def quadrado(x):\n",
    "    y = x * x\n",
    "    return y    # devolve o resultado para o mesmo local que chamou a função.\n",
    "\n",
    "valor_para_calculo = 5\n",
    "resultado = quadrado(valor_para_calculo)\n",
    "print(resultado)"
   ]
  },
  {
   "cell_type": "code",
   "execution_count": 4,
   "metadata": {},
   "outputs": [
    {
     "name": "stdout",
     "output_type": "stream",
     "text": [
      "6\n"
     ]
    }
   ],
   "source": [
    "# Crie uma função que retorne a soma de três números\n",
    "\n",
    "def soma(x,y,z):\n",
    "    return x + y + z\n",
    "\n",
    "total=soma(1,2,3)\n",
    "print(total)\n"
   ]
  },
  {
   "cell_type": "code",
   "execution_count": 5,
   "metadata": {},
   "outputs": [
    {
     "name": "stdout",
     "output_type": "stream",
     "text": [
      "Digite as horas: 40\n",
      "Digite a taxa: 52\n",
      "O valor de seus rendimentos é R$ 2080.0\n"
     ]
    }
   ],
   "source": [
    "# Crie uma função que receba os dados abaixo e calcule o total do salário. Observe que se a quantidade de horas\n",
    "# for maior ou igual a 44, deve-se incluir no cálculo, um adicional de 13,5% a mais sob as horas excedidas.\n",
    "# - o nome do usuário\n",
    "# - a quantidade de horas\n",
    "# - o valor da hora de trabalho\n",
    "\n",
    "def calcula_pagto(qtas_horas, valor_hora):\n",
    "    horas = float(qtas_horas)\n",
    "    taxa = float(valor_hora)\n",
    "    if horas <= 44:\n",
    "        salario = horas*taxa\n",
    "    else:\n",
    "        horas_excedidas = horas-44\n",
    "        salario = 44*taxa + (horas_excedidas * (taxa*1.3))\n",
    "    return salario\n",
    "\n",
    "str_horas= input('Digite as horas: ')\n",
    "str_taxa=input('Digite a taxa: ')\n",
    "total_salario = calcula_pagto(str_horas,str_taxa)\n",
    "print('O valor de seus rendimentos é R$',total_salario)"
   ]
  },
  {
   "cell_type": "code",
   "execution_count": 6,
   "metadata": {},
   "outputs": [
    {
     "name": "stdout",
     "output_type": "stream",
     "text": [
      "----------------------------\n",
      "| Calculator Tabajara 2000 |\n",
      "----------------------------\n",
      "Digite o nome ou 0 p/ encerrar: Zezinho\n",
      "Zezinho, você recebeu salário (s/n)? s\n",
      "Digite o salário: 1500\n",
      "-----------------------------------------------------------------------\n",
      "| Zezinho tem um salário de R$ 1500.00 e pagará R$ 105.00 de imposto. |\n",
      "-----------------------------------------------------------------------\n",
      "----------------------------\n",
      "| Calculator Tabajara 2000 |\n",
      "----------------------------\n",
      "Digite o nome ou 0 p/ encerrar: 0\n",
      "-----------------------\n",
      "| Programa finalizado |\n",
      "-----------------------\n"
     ]
    }
   ],
   "source": [
    "# Programa de cálculo de imposto sobre salário, utilizando uma função \n",
    "# para definição do índice de imposto e outra função para \"enfeitar\"\n",
    "# mensagens apresentadas pelo programa.\n",
    "\n",
    "# Função para colocar \"bordas\" em um determinado texto passado como argumento\n",
    "def mensagem(x):\n",
    "    mensagem = '| ' + x + ' |'\n",
    "    print('-'*len(mensagem))\n",
    "    print(mensagem)\n",
    "    print('-'*len(mensagem))\n",
    "\n",
    "# Função para calcular o índice de imposto\n",
    "def define_imposto(x):\n",
    "    grana = float(x)\n",
    "    if grana < 1500:\n",
    "        imposto = 0\n",
    "    elif grana >= 1500 and grana <= 3000:\n",
    "        imposto = 0.07\n",
    "    elif grana > 3000 and grana <= 5000:\n",
    "        imposto = 0.185\n",
    "    elif grana > 5000:\n",
    "        imposto = 0.26\n",
    "    return imposto\n",
    "    \n",
    "while True:\n",
    "    mensagem('Calculator Tabajara 2000')\n",
    "    nome=input('Digite o nome ou 0 p/ encerrar: ')\n",
    "    if nome == '0':\n",
    "        mensagem('Programa finalizado')\n",
    "        break\n",
    "        \n",
    "    pergunta=input('{}, você recebeu salário (s/n)? '.format(nome))\n",
    "    \n",
    "    if pergunta == 's' or pergunta == 'S':\n",
    "        salario=float(input('Digite o salário: '))\n",
    "        meu_imposto = salario * define_imposto(salario)\n",
    "        resultado_final = '{} tem um salário de R$ {:0.2f} e pagará R$ {:0.2f} de imposto.'.format(nome, salario, meu_imposto)\n",
    "        mensagem(resultado_final)\n",
    "    elif pergunta == 'n' or pergunta == 'N':\n",
    "        mensagem('Nada a ser calculado.')\n",
    "        break\n",
    "    else:\n",
    "        mensagem('Você digitou uma opção inválida. Tente denovo...')\n"
   ]
  },
  {
   "cell_type": "code",
   "execution_count": 7,
   "metadata": {},
   "outputs": [
    {
     "name": "stdout",
     "output_type": "stream",
     "text": [
      "CÁLCULO DE MATERIAL PARA PISO\n",
      "-----------------\n",
      "| ÁREA do PISO: |\n",
      "-----------------\n",
      "Qual é o comprimento (em metros)? 6\n",
      "Qual é a largura (em metros)? 3.2\n",
      "===| desenho aproximado do ambiente |===\n",
      "--------------\n",
      "|            |\n",
      "|            |\n",
      "|            |\n",
      "|            |\n",
      "--------------\n",
      "------------------------------\n",
      "| Dimensões da PEÇA de PISO: |\n",
      "------------------------------\n",
      "Largura da peça (em cm): 10\n",
      "Comprimento da peça (em cm): 100\n",
      "-----------------------------------\n",
      "| A área total de piso é 19.20m². |\n",
      "-----------------------------------\n",
      "----------------------------------------\n",
      "| Serão necessárias 211 peças de piso. |\n",
      "----------------------------------------\n"
     ]
    }
   ],
   "source": [
    "# Exemplo de código para calcular quantidade de peças para piso\n",
    "#--------------------------------------\n",
    "\n",
    "def mensagem(x):\n",
    "    mensagem = '| ' + x + ' |'\n",
    "    print('-'*len(mensagem))\n",
    "    print(mensagem)\n",
    "    print('-'*len(mensagem))\n",
    "\n",
    "def desenha_piso(x,y):\n",
    "    print('===| desenho aproximado do ambiente |==='.format(x))\n",
    "    C='--'*x\n",
    "    L='|'+' '*(len(C)-2)+'|'\n",
    "    print(C)\n",
    "    for i in range(0,y):\n",
    "        print(L)\n",
    "    print(C)\n",
    "\n",
    "def calcula_area_a_ser_coberta(x,y): # comprimento x largura\n",
    "    return x*y\n",
    "\n",
    "def calcula_pecas_para_piso(a,b,c):\n",
    "    #a = área a ser coberta\n",
    "    #b = largura da peça\n",
    "    #c = comprimento da peça\n",
    "    return (a/((b/100)*(c/100)))*1.1\n",
    "\n",
    "print('CÁLCULO DE MATERIAL PARA PISO')\n",
    "\n",
    "mensagem('ÁREA do PISO:')\n",
    "\n",
    "comprimento=float(input('Qual é o comprimento (em metros)? '))\n",
    "largura=float(input('Qual é a largura (em metros)? '))\n",
    "area_de_cobertura=calcula_area_a_ser_coberta(comprimento,largura)\n",
    "\n",
    "# transforma em inteiro e adiciona +1 ao valor, para jogar sempre à mais\n",
    "desenha_piso(int(comprimento+1),int(largura+1))\n",
    "\n",
    "\n",
    "mensagem('Dimensões da PEÇA de PISO:')\n",
    "PECA_LARGURA=(float(input('Largura da peça (em cm): ')))\n",
    "PECA_COMPRIMENTO=(float(input('Comprimento da peça (em cm): ')))\n",
    "\n",
    "PECAS_PISO_NECESSARIAS=calcula_pecas_para_piso(area_de_cobertura,PECA_LARGURA,PECA_COMPRIMENTO)\n",
    "mensagem('A área total de piso é {:0.2f}m².'.format(area_de_cobertura))\n",
    "mensagem('Serão necessárias {} peças de piso.'.format(round(PECAS_PISO_NECESSARIAS)))\n",
    "\n"
   ]
  },
  {
   "cell_type": "code",
   "execution_count": null,
   "metadata": {},
   "outputs": [],
   "source": []
  }
 ],
 "metadata": {
  "kernelspec": {
   "display_name": "Python 3",
   "language": "python",
   "name": "python3"
  },
  "language_info": {
   "codemirror_mode": {
    "name": "ipython",
    "version": 3
   },
   "file_extension": ".py",
   "mimetype": "text/x-python",
   "name": "python",
   "nbconvert_exporter": "python",
   "pygments_lexer": "ipython3",
   "version": "3.7.1"
  }
 },
 "nbformat": 4,
 "nbformat_minor": 2
}
