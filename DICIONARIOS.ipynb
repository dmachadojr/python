{
 "cells": [
  {
   "cell_type": "markdown",
   "metadata": {},
   "source": [
    "## DICIONÁRIOS: noções básicas"
   ]
  },
  {
   "cell_type": "markdown",
   "metadata": {},
   "source": [
    "Dicionários são um tipo de lista em que é possível inserir um índice."
   ]
  },
  {
   "cell_type": "code",
   "execution_count": 1,
   "metadata": {},
   "outputs": [
    {
     "name": "stdout",
     "output_type": "stream",
     "text": [
      "Exemplo 1:\n",
      "{1: 'aaa', 2: 'bbb', 3: 'ccc'}\n",
      "O valor da chave 1 do dicionário é: aaa.\n",
      "-------------------------\n",
      "Exemplo 2:\n",
      "{'abobrinha': 111, 'tomate': 222, 'beterraba': 333}\n",
      "O valor da chave 'tomate' do dicionário é: 222.\n",
      "-------------------------\n",
      "As chaves do dicionário são: dict_keys([1, 2, 3])\n",
      "As chaves do dicionário são: dict_values(['aaa', 'bbb', 'ccc'])\n",
      "Os elementos do dicionário são: dict_items([(1, 'aaa'), (2, 'bbb'), (3, 'ccc')])\n"
     ]
    }
   ],
   "source": [
    "# CRIANDO DICIONÁRIOS E EXIBINDO O VALOR(CONTEÚDO) DE DETERMINADA CHAVE(ÍNDICE)\n",
    "print('Exemplo 1:')\n",
    "dic = {1:'aaa',2:'bbb',3:'ccc'}\n",
    "print(dic)\n",
    "print('O valor da chave 1 do dicionário é: {}.'.format(dic[1]))\n",
    "\n",
    "print('-------------------------')\n",
    "print('Exemplo 2:')\n",
    "dic2 = {'abobrinha':111,'tomate':222, 'beterraba':333}\n",
    "print(dic2)\n",
    "print('O valor da chave \\'tomate\\' do dicionário é: {}.'.format(dic2['tomate']))\n",
    "\n",
    "print('-------------------------')\n",
    "\n",
    "# retornando a lista de chaves\n",
    "print('As chaves do dicionário são: {}'.format(dict.keys(dic)))\n",
    "\n",
    "# retornando a lista de valores\n",
    "print('As chaves do dicionário são: {}'.format(dict.values(dic)))\n",
    "\n",
    "# retornando a lista de itens (chave e valor)\n",
    "print('Os elementos do dicionário são: {}'.format(dict.items(dic)))"
   ]
  }
 ],
 "metadata": {
  "kernelspec": {
   "display_name": "Python 3",
   "language": "python",
   "name": "python3"
  },
  "language_info": {
   "codemirror_mode": {
    "name": "ipython",
    "version": 3
   },
   "file_extension": ".py",
   "mimetype": "text/x-python",
   "name": "python",
   "nbconvert_exporter": "python",
   "pygments_lexer": "ipython3",
   "version": "3.7.1"
  }
 },
 "nbformat": 4,
 "nbformat_minor": 2
}
