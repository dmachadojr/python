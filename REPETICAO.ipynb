{
 "cells": [
  {
   "cell_type": "markdown",
   "metadata": {},
   "source": [
    "# ESTRUTURAS DE REPETIÇÃO: noções básicas"
   ]
  },
  {
   "cell_type": "markdown",
   "metadata": {},
   "source": [
    "Estruturas de repetição são mecanismos utilizados para que um código seja executado repetidamente até que uma condição (se disposta) seja atendida.\n",
    "\n",
    "O \"for\" é um recurso em que haverá a repetição para a condição estabelecida. Por exemplo uma extensão numérica, uma sequência de caracteres, etc."
   ]
  },
  {
   "cell_type": "markdown",
   "metadata": {},
   "source": [
    "Fazendo um loop de repetição para exibição de uma sequência de dados:"
   ]
  },
  {
   "cell_type": "code",
   "execution_count": 1,
   "metadata": {
    "scrolled": true
   },
   "outputs": [
    {
     "name": "stdout",
     "output_type": "stream",
     "text": [
      "1\n",
      "2\n",
      "8\n",
      "4\n",
      "abobrinha\n",
      "True\n",
      "subi no ônibus\n",
      "6\n"
     ]
    }
   ],
   "source": [
    "for i in '1','2',8,2+2,'abobrinha',True,'subi no ônibus',len('obabão'):\n",
    "    print(i)"
   ]
  },
  {
   "cell_type": "markdown",
   "metadata": {},
   "source": [
    "Fazendo um loop de repetição para exibição de uma sequência numérica:"
   ]
  },
  {
   "cell_type": "code",
   "execution_count": 2,
   "metadata": {
    "scrolled": true
   },
   "outputs": [
    {
     "name": "stdout",
     "output_type": "stream",
     "text": [
      "1\n",
      "2\n",
      "3\n",
      "4\n"
     ]
    }
   ],
   "source": [
    "for i in [1,2,3,4]:\n",
    "    print(i)"
   ]
  },
  {
   "cell_type": "markdown",
   "metadata": {},
   "source": [
    "O loop também pode ser executado com base em dados já existentes em uma variável de qualquer tipo:"
   ]
  },
  {
   "cell_type": "code",
   "execution_count": 3,
   "metadata": {},
   "outputs": [
    {
     "name": "stdout",
     "output_type": "stream",
     "text": [
      "agrião\n",
      "rúcula\n",
      "berinjela\n",
      "abobrinha\n",
      "couve-flor\n",
      "3\n",
      "19\n",
      "2457\n"
     ]
    }
   ],
   "source": [
    "A = ['agrião','rúcula','berinjela','abobrinha','couve-flor',3,19,2457]\n",
    "for x in A:\n",
    "    print(x)"
   ]
  },
  {
   "cell_type": "markdown",
   "metadata": {},
   "source": [
    "A função \"range\" é um grande aliado de estruturas de repetições:"
   ]
  },
  {
   "cell_type": "code",
   "execution_count": 4,
   "metadata": {},
   "outputs": [
    {
     "name": "stdout",
     "output_type": "stream",
     "text": [
      "0\n",
      "1\n",
      "2\n",
      "3\n",
      "4\n",
      "5\n"
     ]
    }
   ],
   "source": [
    "for y in range(0,6):\n",
    "    print(y)"
   ]
  },
  {
   "cell_type": "code",
   "execution_count": 5,
   "metadata": {},
   "outputs": [
    {
     "name": "stdout",
     "output_type": "stream",
     "text": [
      "0\n",
      "2\n",
      "4\n",
      "6\n",
      "8\n",
      "10\n",
      "12\n",
      "14\n"
     ]
    }
   ],
   "source": [
    "for i in range(0,15,2):\n",
    "    print(i)"
   ]
  },
  {
   "cell_type": "code",
   "execution_count": 6,
   "metadata": {},
   "outputs": [
    {
     "name": "stdout",
     "output_type": "stream",
     "text": [
      "Agora o i vale 1\n",
      "Agora o i vale 2\n",
      "Agora o i vale 3\n",
      "Agora o i vale 4\n",
      "Agora o i vale 5\n",
      "Agora o i vale 6\n",
      "Agora o i vale 7\n",
      "Agora o i vale 8\n",
      "Agora o i vale 9\n",
      "Agora o i vale 10\n"
     ]
    }
   ],
   "source": [
    "for i in range(1,11):\n",
    "    print('Agora o i vale {}'.format(i))"
   ]
  },
  {
   "cell_type": "markdown",
   "metadata": {},
   "source": [
    "O \"while\" é um recurso em que haverá a repetição até que uma condição seja atendida."
   ]
  },
  {
   "cell_type": "code",
   "execution_count": 7,
   "metadata": {},
   "outputs": [
    {
     "name": "stdout",
     "output_type": "stream",
     "text": [
      "Digite um valor para x:7\n",
      "Digite um valor para x:2\n",
      "Digite um valor para x:12\n"
     ]
    }
   ],
   "source": [
    "x = 0\n",
    "while x < 10:  #enquanto x for menor do que 10, faça\n",
    "    x=float(input('Digite um valor para x:'))\n",
    "    "
   ]
  },
  {
   "cell_type": "code",
   "execution_count": 8,
   "metadata": {},
   "outputs": [
    {
     "name": "stdout",
     "output_type": "stream",
     "text": [
      "Digite a senha: 12\n",
      "Digite a senha: 123456\n"
     ]
    }
   ],
   "source": [
    "senha = '123456'\n",
    "m = ''\n",
    "while m != senha:\n",
    "    m=input('Digite a senha: ')\n",
    "\n"
   ]
  },
  {
   "cell_type": "code",
   "execution_count": 9,
   "metadata": {},
   "outputs": [
    {
     "name": "stdout",
     "output_type": "stream",
     "text": [
      "Digite uma nota (0-100):120\n",
      "Nota inválida. Tente novamente:80\n",
      "A nota válida digitada foi 80.00\n"
     ]
    }
   ],
   "source": [
    "nota=float(input('Digite uma nota (0-100):'))\n",
    "while nota<0 or nota >100:\n",
    "    nota=float(input('Nota inválida. Tente novamente:'))\n",
    "print('A nota válida digitada foi {:0.2f}'.format(nota))\n",
    "    "
   ]
  },
  {
   "cell_type": "markdown",
   "metadata": {},
   "source": [
    "Também é possível forçar a \"quebra\" de um loop. Utiliza-se o comando \"break\":"
   ]
  },
  {
   "cell_type": "code",
   "execution_count": 10,
   "metadata": {},
   "outputs": [
    {
     "name": "stdout",
     "output_type": "stream",
     "text": [
      "Digite um número inteiro: 19\n",
      "Você digitou 19\n",
      "Digite um número inteiro: 9\n",
      "Você digitou 9\n",
      "Parabéns, agora podemos sair do loop\n"
     ]
    }
   ],
   "source": [
    "while True:\n",
    "    n=int(input('Digite um número inteiro: '))\n",
    "    print('Você digitou {:d}'.format(n))\n",
    "    if n == 9:\n",
    "        print('Parabéns, agora podemos sair do loop')\n",
    "        break\n"
   ]
  },
  {
   "cell_type": "markdown",
   "metadata": {},
   "source": [
    "Neste exemplo, podemos forçar o usuário a definir a quantidade de repetições:"
   ]
  },
  {
   "cell_type": "code",
   "execution_count": 11,
   "metadata": {},
   "outputs": [
    {
     "name": "stdout",
     "output_type": "stream",
     "text": [
      "Quantos valores reais serão informados? 3\n",
      "Valor 1: 19\n",
      "Valor 2: 24\n",
      "Valor 3: 33\n",
      "['19', '24', '33']\n"
     ]
    }
   ],
   "source": [
    "# exemplo usando FOR\n",
    "a = []\n",
    "quantidade = int(input('Quantos valores reais serão informados? '))\n",
    "for i in range(1,quantidade+1):\n",
    "    a.append(input('Valor {}: '.format(i)))\n",
    "\n",
    "print(a)"
   ]
  },
  {
   "cell_type": "code",
   "execution_count": 12,
   "metadata": {},
   "outputs": [
    {
     "name": "stdout",
     "output_type": "stream",
     "text": [
      "Digite o 1° valor (ou 99 p/ finalizar): 80\n",
      "[80]\n",
      "Digite o 2° valor (ou 99 p/ finalizar): 79\n",
      "[80, 79]\n",
      "Digite o 3° valor (ou 99 p/ finalizar): 120\n",
      "[80, 79, 120]\n",
      "Digite o 4° valor (ou 99 p/ finalizar): 99\n",
      "A lista possui 3 valores os quais são: [80, 79, 120]\n"
     ]
    }
   ],
   "source": [
    "# exemplo usando WHILE\n",
    "a = []\n",
    "indice = 1\n",
    "while indice != 99:\n",
    "    valor = int(input('Digite o {}° valor (ou 99 p/ finalizar): '.format(indice)))\n",
    "    if valor == 99:\n",
    "        print('A lista possui {} valores os quais são: {}'.format(len(a),a))\n",
    "        break\n",
    "    a.append(valor)\n",
    "    print(a)\n",
    "    indice += 1"
   ]
  },
  {
   "cell_type": "markdown",
   "metadata": {},
   "source": [
    "RECURSIVIDADE é uma estrutura de repetição na qual existem \"sub-loops\", em outras palavras: um loop dentro de outro.\n",
    "Vejamos um exemplo de recursividade usando \"for\":"
   ]
  },
  {
   "cell_type": "code",
   "execution_count": 13,
   "metadata": {},
   "outputs": [
    {
     "name": "stdout",
     "output_type": "stream",
     "text": [
      "bacon\n",
      "lasanha\n",
      "churrasco\n",
      "pera\n",
      "uva\n",
      "-------| agora exibindo a combinação das duas listas, demonstrando todas as possibilidades |--------------\n",
      "bacon pera\n",
      "bacon uva\n",
      "lasanha pera\n",
      "lasanha uva\n",
      "churrasco pera\n",
      "churrasco uva\n"
     ]
    }
   ],
   "source": [
    "comidas = ['bacon','lasanha','churrasco']\n",
    "frutas = ['pera','uva']\n",
    "\n",
    "for x in comidas:\n",
    "    print(x)\n",
    "\n",
    "for y in frutas:\n",
    "    print(y)\n",
    "\n",
    "print('-------| agora exibindo a combinação das duas listas, demonstrando todas as possibilidades |--------------')\n",
    "for x in comidas:\n",
    "    for y in frutas:\n",
    "        print(x,y)"
   ]
  },
  {
   "cell_type": "code",
   "execution_count": 14,
   "metadata": {},
   "outputs": [
    {
     "name": "stdout",
     "output_type": "stream",
     "text": [
      "bacon com pera\n",
      "bacon com uva\n",
      "bacon com maça\n",
      "bacon com melancia\n",
      "bacon com goiaba\n",
      "lasanha com pera\n",
      "lasanha com uva\n",
      "lasanha com maça\n",
      "lasanha com melancia\n",
      "lasanha com goiaba\n",
      "churrasco com pera\n",
      "churrasco com uva\n",
      "churrasco com maça\n",
      "churrasco com melancia\n",
      "churrasco com goiaba\n",
      "ervilha com pera\n",
      "ervilha com uva\n",
      "ervilha com maça\n",
      "ervilha com melancia\n",
      "ervilha com goiaba\n",
      "mingau com pera\n",
      "mingau com uva\n",
      "mingau com maça\n",
      "mingau com melancia\n",
      "mingau com goiaba\n",
      "sopa com pera\n",
      "sopa com uva\n",
      "sopa com maça\n",
      "sopa com melancia\n",
      "sopa com goiaba\n",
      "hamburguer com pera\n",
      "hamburguer com uva\n",
      "hamburguer com maça\n",
      "hamburguer com melancia\n",
      "hamburguer com goiaba\n",
      "brocolis com pera\n",
      "brocolis com uva\n",
      "brocolis com maça\n",
      "brocolis com melancia\n",
      "brocolis com goiaba\n",
      "Foram um total de 40 combinações.\n"
     ]
    }
   ],
   "source": [
    "# Agora o mesmo exercício, mas como uma lista um pouquinho maior:\n",
    "comidas = ['bacon','lasanha','churrasco','ervilha','mingau','sopa','hamburguer','brocolis']\n",
    "frutas = ['pera','uva','maça','melancia','goiaba']\n",
    "contador=0\n",
    "\n",
    "for x in comidas:\n",
    "    for y in frutas:\n",
    "        print('{} com {}'.format(x,y))\n",
    "        contador+=1\n",
    "print('Foram um total de {} combinações.'.format(contador))"
   ]
  },
  {
   "cell_type": "code",
   "execution_count": 15,
   "metadata": {},
   "outputs": [
    {
     "name": "stdout",
     "output_type": "stream",
     "text": [
      "tomate com agrião e filé de frango\n",
      "tomate com agrião e pão de queijo\n",
      "tomate com agrião e mel\n",
      "tomate com filé de frango e agrião\n",
      "tomate com filé de frango e pão de queijo\n",
      "tomate com filé de frango e mel\n",
      "tomate com pão de queijo e agrião\n",
      "tomate com pão de queijo e filé de frango\n",
      "tomate com pão de queijo e mel\n",
      "tomate com mel e agrião\n",
      "tomate com mel e filé de frango\n",
      "tomate com mel e pão de queijo\n",
      "agrião com tomate e filé de frango\n",
      "agrião com tomate e pão de queijo\n",
      "agrião com tomate e mel\n",
      "agrião com filé de frango e tomate\n",
      "agrião com filé de frango e pão de queijo\n",
      "agrião com filé de frango e mel\n",
      "agrião com pão de queijo e tomate\n",
      "agrião com pão de queijo e filé de frango\n",
      "agrião com pão de queijo e mel\n",
      "agrião com mel e tomate\n",
      "agrião com mel e filé de frango\n",
      "agrião com mel e pão de queijo\n",
      "filé de frango com tomate e agrião\n",
      "filé de frango com tomate e pão de queijo\n",
      "filé de frango com tomate e mel\n",
      "filé de frango com agrião e tomate\n",
      "filé de frango com agrião e pão de queijo\n",
      "filé de frango com agrião e mel\n",
      "filé de frango com pão de queijo e tomate\n",
      "filé de frango com pão de queijo e agrião\n",
      "filé de frango com pão de queijo e mel\n",
      "filé de frango com mel e tomate\n",
      "filé de frango com mel e agrião\n",
      "filé de frango com mel e pão de queijo\n",
      "pão de queijo com tomate e agrião\n",
      "pão de queijo com tomate e filé de frango\n",
      "pão de queijo com tomate e mel\n",
      "pão de queijo com agrião e tomate\n",
      "pão de queijo com agrião e filé de frango\n",
      "pão de queijo com agrião e mel\n",
      "pão de queijo com filé de frango e tomate\n",
      "pão de queijo com filé de frango e agrião\n",
      "pão de queijo com filé de frango e mel\n",
      "pão de queijo com mel e tomate\n",
      "pão de queijo com mel e agrião\n",
      "pão de queijo com mel e filé de frango\n",
      "mel com tomate e agrião\n",
      "mel com tomate e filé de frango\n",
      "mel com tomate e pão de queijo\n",
      "mel com agrião e tomate\n",
      "mel com agrião e filé de frango\n",
      "mel com agrião e pão de queijo\n",
      "mel com filé de frango e tomate\n",
      "mel com filé de frango e agrião\n",
      "mel com filé de frango e pão de queijo\n",
      "mel com pão de queijo e tomate\n",
      "mel com pão de queijo e agrião\n",
      "mel com pão de queijo e filé de frango\n",
      "Foram um total de 60 combinações.\n"
     ]
    }
   ],
   "source": [
    "#### EXERCÍCIO: Em uma cozinha de restaurante existem apenas os ingredientes a seguir. \n",
    "#Exiba todas as possíveis combinações (não importa a sequência)\n",
    "#utilizando até 3 ingredientes e quantas receitas isto totaliza.\n",
    "#Ingredientes disponíveis: tomate, agrião, filé de frango, pão de queijo, mel.\n",
    "\n",
    "ingredientes = ['tomate','agrião','filé de frango', 'pão de queijo', 'mel']\n",
    "contador=0\n",
    "for a in ingredientes:\n",
    "    for b in ingredientes:\n",
    "        for c in ingredientes:\n",
    "            if (a != b) and (b != c) and (a != c):     #futuramente incluiremos uma função para consultar uma segunda lista\n",
    "                                                       #e ver se existe a combinação (independente da ordem)\n",
    "                print('{} com {} e {}'.format(a,b,c))\n",
    "                contador+=1\n",
    "print('Foram um total de {} combinações.'.format(contador))"
   ]
  }
 ],
 "metadata": {
  "kernelspec": {
   "display_name": "Python 3",
   "language": "python",
   "name": "python3"
  },
  "language_info": {
   "codemirror_mode": {
    "name": "ipython",
    "version": 3
   },
   "file_extension": ".py",
   "mimetype": "text/x-python",
   "name": "python",
   "nbconvert_exporter": "python",
   "pygments_lexer": "ipython3",
   "version": "3.7.1"
  }
 },
 "nbformat": 4,
 "nbformat_minor": 2
}
