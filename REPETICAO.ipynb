{
 "cells": [
  {
   "cell_type": "markdown",
   "metadata": {},
   "source": [
    "# ESTRUTURAS DE REPETIÇÃO: noções básicas"
   ]
  },
  {
   "cell_type": "markdown",
   "metadata": {},
   "source": [
    "Estruturas de repetição são mecanismos utilizados para que um código seja executado repetidamente até que uma condição (se disposta) seja atendida.\n",
    "\n",
    "O \"for\" é um recurso em que haverá a repetição para a condição estabelecida. Por exemplo uma extensão numérica, uma sequência de caracteres, etc."
   ]
  },
  {
   "cell_type": "markdown",
   "metadata": {},
   "source": [
    "Fazendo um loop de repetição para exibição de uma sequência de dados:"
   ]
  },
  {
   "cell_type": "code",
   "execution_count": 10,
   "metadata": {
    "scrolled": true
   },
   "outputs": [
    {
     "name": "stdout",
     "output_type": "stream",
     "text": [
      "1\n",
      "2\n",
      "8\n",
      "4\n",
      "abobrinha\n",
      "True\n",
      "subi no ônibus\n",
      "6\n"
     ]
    }
   ],
   "source": [
    "for i in '1','2',8,2+2,'abobrinha',True,'subi no ônibus',len('obabão'):\n",
    "    print(i)"
   ]
  },
  {
   "cell_type": "markdown",
   "metadata": {},
   "source": [
    "Fazendo um loop de repetição para exibição de uma sequência numérica:"
   ]
  },
  {
   "cell_type": "code",
   "execution_count": 3,
   "metadata": {
    "scrolled": true
   },
   "outputs": [
    {
     "name": "stdout",
     "output_type": "stream",
     "text": [
      "1\n",
      "2\n",
      "3\n",
      "4\n"
     ]
    }
   ],
   "source": [
    "for i in [1,2,3,4]:\n",
    "    print(i)"
   ]
  },
  {
   "cell_type": "markdown",
   "metadata": {},
   "source": [
    "O loop também pode ser executado com base em dados já existentes em uma variável de qualquer tipo:"
   ]
  },
  {
   "cell_type": "code",
   "execution_count": 14,
   "metadata": {},
   "outputs": [
    {
     "name": "stdout",
     "output_type": "stream",
     "text": [
      "agrião\n",
      "rúcula\n",
      "berinjela\n",
      "abobrinha\n",
      "couve-flor\n",
      "3\n",
      "19\n",
      "2457\n"
     ]
    }
   ],
   "source": [
    "A = ['agrião','rúcula','berinjela','abobrinha','couve-flor',3,19,2457]\n",
    "for x in A:\n",
    "    print(x)"
   ]
  },
  {
   "cell_type": "markdown",
   "metadata": {},
   "source": [
    "A função \"range\" é um grande aliado de estruturas de repetições:"
   ]
  },
  {
   "cell_type": "code",
   "execution_count": 12,
   "metadata": {},
   "outputs": [
    {
     "name": "stdout",
     "output_type": "stream",
     "text": [
      "0\n",
      "1\n",
      "2\n",
      "3\n",
      "4\n",
      "5\n"
     ]
    }
   ],
   "source": [
    "for y in range(0,6):\n",
    "    print(y)"
   ]
  },
  {
   "cell_type": "code",
   "execution_count": 15,
   "metadata": {},
   "outputs": [
    {
     "name": "stdout",
     "output_type": "stream",
     "text": [
      "0\n",
      "2\n",
      "4\n",
      "6\n",
      "8\n",
      "10\n",
      "12\n",
      "14\n"
     ]
    }
   ],
   "source": [
    "for i in range(0,15,2):\n",
    "    print(i)"
   ]
  },
  {
   "cell_type": "code",
   "execution_count": 17,
   "metadata": {},
   "outputs": [
    {
     "name": "stdout",
     "output_type": "stream",
     "text": [
      "Agora o i vale 1\n",
      "Agora o i vale 2\n",
      "Agora o i vale 3\n",
      "Agora o i vale 4\n",
      "Agora o i vale 5\n",
      "Agora o i vale 6\n",
      "Agora o i vale 7\n",
      "Agora o i vale 8\n",
      "Agora o i vale 9\n",
      "Agora o i vale 10\n"
     ]
    }
   ],
   "source": [
    "for i in range(1,11):\n",
    "    print('Agora o i vale {}'.format(i))"
   ]
  },
  {
   "cell_type": "markdown",
   "metadata": {},
   "source": [
    "O \"while\" é um recurso em que haverá a repetição até que uma condição seja atendida."
   ]
  },
  {
   "cell_type": "code",
   "execution_count": 20,
   "metadata": {},
   "outputs": [
    {
     "name": "stdout",
     "output_type": "stream",
     "text": [
      "Digite um valor para x:5\n",
      "Digite um valor para x:9\n",
      "Digite um valor para x:10\n"
     ]
    }
   ],
   "source": [
    "x = 0\n",
    "while x < 10:  #enquanto x for menor do que 10, faça\n",
    "    x=float(input('Digite um valor para x:'))\n",
    "    "
   ]
  },
  {
   "cell_type": "code",
   "execution_count": 23,
   "metadata": {},
   "outputs": [
    {
     "name": "stdout",
     "output_type": "stream",
     "text": [
      "Digite a senha: 12\n",
      "Digite a senha: 12345678\n",
      "Digite a senha: as2s9\n",
      "Digite a senha: 123456\n"
     ]
    }
   ],
   "source": [
    "senha = '123456'\n",
    "m = ''\n",
    "while m != senha:\n",
    "    m=input('Digite a senha: ')\n",
    "\n"
   ]
  },
  {
   "cell_type": "code",
   "execution_count": 25,
   "metadata": {},
   "outputs": [
    {
     "name": "stdout",
     "output_type": "stream",
     "text": [
      "Digite uma nota (0-100):-6\n",
      "Nota inválida. Tente novamente:100.1\n",
      "Nota inválida. Tente novamente:70\n",
      "A nota válida digitada foi 70.00\n"
     ]
    }
   ],
   "source": [
    "nota=float(input('Digite uma nota (0-100):'))\n",
    "while nota<0 or nota >100:\n",
    "    nota=float(input('Nota inválida. Tente novamente:'))\n",
    "print('A nota válida digitada foi {:0.2f}'.format(nota))\n",
    "    "
   ]
  },
  {
   "cell_type": "markdown",
   "metadata": {},
   "source": [
    "Também é possível forçar a \"quebra\" de um loop. Utiliza-se o comando \"break\":"
   ]
  },
  {
   "cell_type": "code",
   "execution_count": 35,
   "metadata": {},
   "outputs": [
    {
     "name": "stdout",
     "output_type": "stream",
     "text": [
      "Digite um número inteiro: -57\n",
      "Você digitou -57\n",
      "Digite um número inteiro: 13\n",
      "Você digitou 13\n",
      "Digite um número inteiro: 457\n",
      "Você digitou 457\n",
      "Digite um número inteiro: 9\n",
      "Você digitou 9\n",
      "Parabéns, agora podemos sair do loop\n"
     ]
    }
   ],
   "source": [
    "while True:\n",
    "    n=int(input('Digite um número inteiro: '))\n",
    "    print('Você digitou {:d}'.format(n))\n",
    "    if n == 9:\n",
    "        print('Parabéns, agora podemos sair do loop')\n",
    "        break\n"
   ]
  },
  {
   "cell_type": "code",
   "execution_count": null,
   "metadata": {},
   "outputs": [],
   "source": []
  }
 ],
 "metadata": {
  "kernelspec": {
   "display_name": "Python 3",
   "language": "python",
   "name": "python3"
  },
  "language_info": {
   "codemirror_mode": {
    "name": "ipython",
    "version": 3
   },
   "file_extension": ".py",
   "mimetype": "text/x-python",
   "name": "python",
   "nbconvert_exporter": "python",
   "pygments_lexer": "ipython3",
   "version": "3.7.1"
  }
 },
 "nbformat": 4,
 "nbformat_minor": 2
}
