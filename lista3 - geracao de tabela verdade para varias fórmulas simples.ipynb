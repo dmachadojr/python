# Utilizando Python para geração de tabela verdade e análise de propriedade semântica:

vetorPossibilidade = [True,False]
print("--------------------------------")
print("Fórmula: (M v N) ^ ¬(O v P) ^ (¬M v Q) ^ (¬N v R)")
print("--------------------------------")

VERDADE = 0
MENTIRA = 0
quantidadeLinhasTabela = 0

for M in vetorPossibilidade:
    for N in vetorPossibilidade:    
        for O in vetorPossibilidade:
            for P in vetorPossibilidade:
                for Q in vetorPossibilidade:
                    for R in vetorPossibilidade:
                        if (M or N) and not (O or P) and (not M or Q) and (not N or R):
                            resultadoFormula='Verdadeiro'
                            VERDADE+=1
                        else:
                            resultadoFormula='Falso'
                            MENTIRA+=1
                        print(f'M = {M} \t N = {N} \t O = {O} \t P = {P} \t Q = {Q} \t R = {R} \t FÓRMULA={resultadoFormula}')
                        quantidadeLinhasTabela+=1

print(f'Total de linhas da tabela: {(VERDADE+MENTIRA)}')
print(f'Linhas com Verdadeiro = {VERDADE}; linhas com falso = {MENTIRA}.')

if (quantidadeLinhasTabela == VERDADE):
    tipoFormula='TAUTOLÓGICA'
    
elif (quantidadeLinhasTabela == MENTIRA):
    tipoFormula='CONTRADITÓRIA'
    
else:
    tipoFormula='SATISFATÓRIA'

print(f'Esta fórmula é {tipoFormula}')
print('/-'*30)
