# -*- coding: utf-8 -*-
"""
Utilizando a linguagem Python, faça um programa que gere a tabela verdade das fórmulas seguintes, bem como informar a quantidade de linhas da tabela, quantidade de linhas com resultado verdadeiro e quantidade de linhas com resultado falso.

a) (A ^ B ^ ¬C) v (¬A ^ ¬B ^ ¬C)
b) (X ^ ¬Y) v X
c) ¬(P v Q) ^ (¬R ^ ¬Q)
d) (M ^ N) v (¬O ^ N)
e) (A v (¬B ^ C)) ^ ¬( ¬( C ^ ¬D) v (¬A ^ B) )
f) (M v N) ^ ¬(O v P) ^ (¬M v Q) ^ (¬N v R)

"""

vetorPossibilidade = [True,False]

#---------------------------------------------------------
print("--------------------------------")
print("1ª Fórmula: (A ^ B ^ ¬C) v (¬A ^ ¬B ^ ¬C)")
print("-------------------------------------------------------------------")

VERDADE = 0
MENTIRA = 0
quantidadeLinhasTabela = 0

for a in vetorPossibilidade:
    for b in vetorPossibilidade:    
        for c in vetorPossibilidade:
            if (a and b and not c) or (not a and not b and not c):
                resultadoFormula='Verdadeiro'
                VERDADE+=1
            else:
                resultadoFormula='Falso'
                MENTIRA+=1
            print(f'A = {a} \t B = {b} \t C = {c} \t FÓRMULA = {resultadoFormula}')
            quantidadeLinhasTabela+=1

print(f'Total de linhas da tabela: {(VERDADE+MENTIRA)}')
print(f'Linhas com Verdadeiro = {VERDADE}; linhas com falso = {MENTIRA}.')

#----------------------------------------------------------

VERDADE = 0
MENTIRA = 0
quantidadeLinhasTabela = 0
print("--------------------------------")
print("2ª Fórmula: (X ^ ¬Y) v X")
print("-------------------------------------------------------------------")

for x in vetorPossibilidade:
    for y in vetorPossibilidade:    
        if (x and not y) or x:
            resultadoFormula='Verdadeiro'
            VERDADE+=1
        else:
            resultadoFormula='Falso'
            MENTIRA+=1
        print(f'X = {x} \t Y = {y} \t FÓRMULA = {resultadoFormula}')
        quantidadeLinhasTabela+=1

print(f'Total de linhas da tabela: {(VERDADE+MENTIRA)}')
print(f'Linhas com Verdadeiro = {VERDADE}; linhas com falso = {MENTIRA}.')

#----------------------------------------------------------

print("--------------------------------")
print("3ª Fórmula: ¬(P v Q) ^ (¬R ^ ¬Q)")
print("-------------------------------------------------------------------")

VERDADE = 0
MENTIRA = 0
quantidadeLinhasTabela = 0

for P in vetorPossibilidade:
    for Q in vetorPossibilidade:    
        for R in vetorPossibilidade:
            if not (P or Q) and (not R and not Q):
                resultadoFormula='Verdadeiro'
                VERDADE+=1
            else:
                resultadoFormula='Falso'
                MENTIRA+=1
            print(f'P = {P} \t Q = {Q} \t R = {R} \t FÓRMULA = {resultadoFormula}')
            quantidadeLinhasTabela+=1

print(f'Total de linhas da tabela: {(VERDADE+MENTIRA)}')
print(f'Linhas com Verdadeiro = {VERDADE}; linhas com falso = {MENTIRA}.')
#----------------------------------------------------------

print("--------------------------------")
print("4ª Fórmula: (M ^ N) v (¬O ^ N)")
print("-------------------------------------------------------------------")

VERDADE = 0
MENTIRA = 0
quantidadeLinhasTabela = 0

for M in vetorPossibilidade:
    for N in vetorPossibilidade:    
        for O in vetorPossibilidade:
            if (M and N) or (not O and N):
                resultadoFormula='Verdadeiro'
                VERDADE+=1
            else:
                resultadoFormula='Falso'
                MENTIRA+=1
            print(f'M = {M} \t N = {N} \t O = {O} \t FÓRMULA = {resultadoFormula}')
            quantidadeLinhasTabela+=1

print(f'Total de linhas da tabela: {(VERDADE+MENTIRA)}')
print(f'Linhas com Verdadeiro = {VERDADE}; linhas com falso = {MENTIRA}.')
#----------------------------------------------------------


print("--------------------------------")
print("5ª Fórmula: (A v (¬B ^ C)) ^ ¬( ¬( C ^ ¬D) v (¬A ^ B) )")
print("-------------------------------------------------------------------")

VERDADE = 0
MENTIRA = 0
quantidadeLinhasTabela = 0

for A in vetorPossibilidade:
    for B in vetorPossibilidade:    
        for C in vetorPossibilidade:
            for D in vetorPossibilidade:
                if (A or (not B and C)) and not( not(C and not D) or (not A and B) ):
                    resultadoFormula='Verdadeiro'
                    VERDADE+=1
                else:
                    resultadoFormula='Falso'
                    MENTIRA+=1
                print(f'A = {A} \t B = {B} \t C = {C} \t D = {D} \t FÓRMULA = {resultadoFormula}')
                quantidadeLinhasTabela+=1

print(f'Total de linhas da tabela: {(VERDADE+MENTIRA)}')
print(f'Linhas com Verdadeiro = {VERDADE}; linhas com falso = {MENTIRA}.')
#----------------------------------------------------------

print("--------------------------------")
print("6ª Fórmula: (M v N) ^ ¬(O v P) ^ (¬M v Q) ^ (¬N v R)")
print("-------------------------------------------------------------------")

VERDADE = 0
MENTIRA = 0
quantidadeLinhasTabela = 0

for M in vetorPossibilidade:
    for N in vetorPossibilidade:    
        for O in vetorPossibilidade:
            for P in vetorPossibilidade:
                for Q in vetorPossibilidade:
                    for R in vetorPossibilidade:
                        if (M or N) and not (O or P) and (not M or Q) and (not N or R):
                            resultadoFormula='Verdadeiro'
                            VERDADE+=1
                        else:
                            resultadoFormula='Falso'
                            MENTIRA+=1
                        print(f'M = {M} \t N = {N} \t O = {O} \t P = {P} \t Q = {Q} \t R = {R} \t FÓRMULA={resultadoFormula}')
                        quantidadeLinhasTabela+=1

print(f'Total de linhas da tabela: {(VERDADE+MENTIRA)}')
print(f'Linhas com Verdadeiro = {VERDADE}; linhas com falso = {MENTIRA}.')
#----------------------------------------------------------



if (quantidadeLinhasTabela == VERDADE):
    tipoFormula='TAUTOLÓGICA'
    
elif (quantidadeLinhasTabela == MENTIRA):
    tipoFormula='CONTRADITÓRIA'
    
else:
    tipoFormula='SATISFATÓRIA'

print(f'Esta fórmula é {tipoFormula}')
print('/-'*30)
